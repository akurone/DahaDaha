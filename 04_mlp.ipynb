{
 "cells": [
  {
   "cell_type": "markdown",
   "metadata": {},
   "source": [
    "# Çok Katmanlı Algılayıcı (MLP)"
   ]
  },
  {
   "cell_type": "markdown",
   "metadata": {},
   "source": [
    "## Hazırlık"
   ]
  },
  {
   "cell_type": "code",
   "execution_count": 1,
   "metadata": {},
   "outputs": [],
   "source": [
    "# \"hiper\" parametreler:\n",
    "n_blok = 3 # bir sonraki harfi tahmin ederken kaç harf öncesine bakacağız\n",
    "n_katman = 100 # gizli katman boyutu\n",
    "n_embed = 2 # bunu 2 yapmamızın özel bir sebebi var!\n",
    "n_girdi = n_blok * n_embed\n",
    "n_batch = 40 # her seferinde kaç örnek işleyeceğiz"
   ]
  },
  {
   "cell_type": "code",
   "execution_count": 2,
   "metadata": {},
   "outputs": [
    {
     "data": {
      "text/plain": [
       "(29996, ['a', 'b', 'a', 'c', 'a', '.'])"
      ]
     },
     "execution_count": 2,
     "metadata": {},
     "output_type": "execute_result"
    }
   ],
   "source": [
    "# gerekli kütüphaneler\n",
    "import torch\n",
    "import torch.nn.functional as F\n",
    "import matplotlib.pyplot as plt\n",
    "import random\n",
    "%matplotlib inline\n",
    "\n",
    "# bunlar bize hep lazım\n",
    "alfabe = list('.abcçdefgğhıijklmnoöprsştuüvyz')\n",
    "harf2idx = { harf:idx for idx, harf in enumerate(alfabe) }\n",
    "idx2harf = { idx:harf for harf, idx in harf2idx.items() }\n",
    "\n",
    "# bize lazım olan işlem: bir string alıp sonuna nokta ekle, başına bu sefer eklemiyoruz: veri yapımız blok adedi kadar \"başlangıç noktası\" ekleyecek\n",
    "def isle(x):\n",
    "    return list(x) + ['.']\n",
    "\n",
    "# artık bigram ile işimiz yok. bize x y lazım ve buradaki x blok uzunluğunda harf dizisi, y ise bir sonraki harf\n",
    "def xyOlustur(isimler):\n",
    "  X, Y = [], []\n",
    "  for isim in isimler:\n",
    "    baglam = [0] * n_blok\n",
    "    for idx in map(lambda harf: harf2idx[harf], isim):\n",
    "      X.append(baglam)\n",
    "      Y.append(idx)\n",
    "      baglam = baglam[1:] + [idx]\n",
    "  X, Y = torch.tensor(X), torch.tensor(Y)\n",
    "  print(X.shape, Y.shape)\n",
    "  return X, Y\n",
    "\n",
    "# isimleri okurken işleyelim\n",
    "isimler = list(map(lambda isim: isle(isim), open(\"./isimler.txt\", \"r\").read().splitlines()))\n",
    "\n",
    "# adetlere devam:\n",
    "n_alfabe = len(alfabe)\n",
    "n_isim = len(isimler)\n",
    "n_isim, isimler[0]"
   ]
  },
  {
   "cell_type": "markdown",
   "metadata": {},
   "source": [
    "## Girizgâh\n",
    "\n",
    "Bu safhada daha eskilerden bir [makaleyi](https://www.jmlr.org/papers/volume3/bengio03a/bengio03a.pdf) takip edeceğiz. Literatürdeki diğer çalışmalar gibi bu makalede harf seviyesinde değil kelime seviyesinde bir dil modeli üzerine fakat kavramsal olarak aynı sonucun peşindeyiz. Kabaca yol haritamız şöyle:\n",
    "- Önceki çalışmamızı geliştiriyoruz: biraz daha nörona benzer yapıları üreteceğiz: ağırlık, aktivasyon ve önyargı olacak yani.\n",
    "- Modeli \"düzgün\" bir şekilde başlatacağız.\n",
    "- Girdileri doğrudan bu gizli nöron katmanına göndermeden arada bir `embedding` yapısı kullanacağız: kısaca harflerin bir vektör uzayında birbirine olan yakınlıklarını kullanma fikri diyebilirim ve çok yetersiz bir açıklama oldu diye ekleyerek [buraya](https://en.wikipedia.org/wiki/Word_embedding) yönlendirebilirim. Detayından ve modele ne katacağından ziyade bu süreçte uygulama yaparken bize ne katacağı önemli burada.\n",
    "- Tekerleği icat ettiğimiz yerlere bir daha dönüp \"bakın burada katlanmışı var!\" nidalarıyla yapan kütüphanelere methiyeler düzeceğiz.\n",
    "- İdeal bir `LR` değerini nasıl bulabiliriz buna bakacağız.\n",
    "\n",
    "`n_` ön eki ile adetlerden bahsediyoruz.\n",
    "\n",
    "Başlamadan önce veri yapımızı görelim:"
   ]
  },
  {
   "cell_type": "code",
   "execution_count": 3,
   "metadata": {},
   "outputs": [
    {
     "name": "stdout",
     "output_type": "stream",
     "text": [
      "'abacılar.':\n",
      "X: ... -> Y: a\n",
      "X: ..a -> Y: b\n",
      "X: .ab -> Y: a\n",
      "X: aba -> Y: c\n",
      "X: bac -> Y: ı\n",
      "X: acı -> Y: l\n",
      "X: cıl -> Y: a\n",
      "X: ıla -> Y: r\n",
      "X: lar -> Y: .\n"
     ]
    }
   ],
   "source": [
    "isim = 'abacılar.'\n",
    "print(f'\\'{isim}\\':')\n",
    "baglam= ['.'] * n_blok\n",
    "for harf in isim:\n",
    "  x = ''.join(baglam)\n",
    "  print(f'X: {x} -> Y: {harf}')\n",
    "  baglam = baglam[1:] + [harf]"
   ]
  },
  {
   "cell_type": "markdown",
   "metadata": {},
   "source": [
    "## Örnek NN Oluşturalım"
   ]
  },
  {
   "cell_type": "code",
   "execution_count": 4,
   "metadata": {},
   "outputs": [
    {
     "name": "stdout",
     "output_type": "stream",
     "text": [
      "torch.Size([38, 3]) torch.Size([38])\n"
     ]
    },
    {
     "data": {
      "text/plain": [
       "38"
      ]
     },
     "execution_count": 4,
     "metadata": {},
     "output_type": "execute_result"
    }
   ],
   "source": [
    "ornekX, ornekY = xyOlustur(isimler[:5])\n",
    "n_ornek = len(ornekX)\n",
    "n_ornek"
   ]
  },
  {
   "cell_type": "markdown",
   "metadata": {},
   "source": [
    "2 boyutlu bir `embedding` matris oluşturacağız demiştik; buna uygun bir yapı kurmak için faydalanacağımız matris çarpımı işleminin kurallarına riayet etmemiz gerek, ilk 5 isim için bir örnek yapalım:\n",
    "\n",
    "- her bir harf için 2 boyutlu bir (embed) matris yaptık: 30x2\n",
    "- ilk 5 isim için elimizde 38 X Y var, biz X değerlerini girdi olarak kullanacağız, dolayısıyla ilgilendiğimiz matris: 38x3\n",
    "- bu ikisini çarptığımızda 38x3x2 boyutunda bir matris elde edeceğiz,\n",
    "- bunu bir sonraki işleme tabi girdi olarak kullanabilmek üzere 38x6 boyutuna getirmeliyiz: bunun için `torch` kütüphanesinde birçok yöntem mevcut; en efektifi ise `.view()`. ilk boyutu koruması için -1, diğer iki boyutu birleştirmesi için 6 parametresi veriyoruz.\n",
    "- gizli katmanda 100 nöron istediğimiz için ağırlık=6x100 önyargı=1x100 olacak\n",
    "- bu 100 nörondan çıktı üretirken 30 harften birine ihtiyacımız olduğu için son katman 100x30 ve 1x30 şeklinde olacak."
   ]
  },
  {
   "cell_type": "code",
   "execution_count": 5,
   "metadata": {},
   "outputs": [
    {
     "name": "stdout",
     "output_type": "stream",
     "text": [
      "embed: torch.Size([38, 3, 2])\n",
      "38x6 @ 6x100 = 38x100\n",
      "38x100 @ 100x30 = 38x30\n"
     ]
    }
   ],
   "source": [
    "torch.manual_seed(5) # tekrarlanabilirlik için\n",
    "\n",
    "# embedding matrisi, isim makaleden geliyor\n",
    "ornekC = torch.randn((n_alfabe, n_embed))\n",
    "\n",
    "# gizli katman için ağırlıklar ve bias\n",
    "ornekW1 = torch.randn((n_girdi, n_katman))\n",
    "ornekB1 = torch.randn(n_katman)\n",
    "\n",
    "# çıktı katmanı için ağırlıklar ve bias\n",
    "ornekW2 = torch.randn((n_katman, n_alfabe))\n",
    "ornekB2 = torch.randn(n_alfabe)\n",
    "\n",
    "\n",
    "embed = ornekC[ornekX]\n",
    "girdi = embed.view(-1, n_girdi) # bunu yapmanın binbir türlü yolu var ama en efektifi bu; meraklısına: http://blog.ezyang.com/2019/05/pytorch-internals/\n",
    "gizli = torch.tanh(girdi @ ornekW1 + ornekB1)\n",
    "logits = gizli @ ornekW2 + ornekB2\n",
    "\n",
    "def shapeStr(x):\n",
    "  return f'{x.shape[0]}x{x.shape[1]}'\n",
    "\n",
    "print(f'embed: {embed.shape}')\n",
    "print(f'{shapeStr(girdi)} @ {shapeStr(ornekW1)} = {shapeStr(gizli)}')\n",
    "print(f'{shapeStr(gizli)} @ {shapeStr(ornekW2)} = {shapeStr(logits)}')"
   ]
  },
  {
   "cell_type": "markdown",
   "metadata": {},
   "source": [
    "Örnek üzerinde son bir hususa bakıp eğitim işine ayırdığımız büyük kümeler üzerinde devam edeceğiz. Kusur için bulduğumuz ölçüyü ilk defa biz keşfetmedik: sadece mantığını anlamaya çalışıyoruz ve sanırım yeterince anladık. Bundan sonrası için \"arkadaşlar bunun daha iyisini yapmışlar\" nidalarıyla `torch` kütüphanesindeki `cross_entropy` fonksiyonunu kullanacağız. Aşağıda gördüğünüz gibi büyük oranda bizim hesapladığımız ile aynı; neden çok ufak bir fark olduğunu dileyen araştırabilir."
   ]
  },
  {
   "cell_type": "code",
   "execution_count": 6,
   "metadata": {},
   "outputs": [
    {
     "name": "stdout",
     "output_type": "stream",
     "text": [
      "hesapladığımız: 10.326420783996582\n",
      "cross_entropy : 10.32641887664795\n",
      "fark          : 1.9073486328125e-06\n"
     ]
    }
   ],
   "source": [
    "ornekP = torch.softmax(logits, dim = 1) # bunu da benzer şekilde el yordamıyla bulduktan sonra terfi etmiştik :)\n",
    "hesaplanan = -ornekP[torch.arange(n_ornek), ornekY].log().mean()\n",
    "c_entropy = F.cross_entropy(logits, ornekY) # bu ise yeni, bundan sonra kullanacağız!!\n",
    "\n",
    "print('hesapladığımız:', hesaplanan.item())\n",
    "print('cross_entropy :', c_entropy.item())\n",
    "print('fark          :', (hesaplanan - c_entropy).item())"
   ]
  },
  {
   "cell_type": "markdown",
   "metadata": {},
   "source": [
    "Örnek bile olsa şu an modelin 10 gibi yüksek bir loss ile başlaması normal mi ya da başlangıçta belli bir loss değeri ummalı mıyız? Tabii ki evet: bir bilgimiz yokken 1/30 ihtimalle başlamalıyız; bu da bize başlangıç loss değerinin (-log(1/30) ~=) 3.4 civarı olması gerektiğini söylüyor."
   ]
  },
  {
   "cell_type": "markdown",
   "metadata": {},
   "source": [
    "## MLP Eğitelim!"
   ]
  },
  {
   "cell_type": "markdown",
   "metadata": {},
   "source": [
    "### Eğitim/Validasyon"
   ]
  },
  {
   "cell_type": "markdown",
   "metadata": {},
   "source": [
    "Önceki 2 uygulamamızda verinin tümünü kullandık fakat artık daha aklı başında işler yapmanın vakti geldi: yeterince çok parametresi olan bir modele eldeki tüm veriyi teslim edersek bunu hafızasına alıp sonra ense yapacaktır. Bunun önüne geçmenin en kolay yollarından biri tüm veri değil sadece bunun belli bir kısmı üzerinde eğitim yapmak. Kullanmayacağımız detaylara şimdilik girmiyoruz: %80 üzerinde eğitim yapıp tümü üzerindeki kazanımımıza bakacağız.\n",
    "\n",
    "Bu dağılımı yapmadan önce veriyi bir karıştırmak da fena olmaz deyip işe koyulalım:"
   ]
  },
  {
   "cell_type": "code",
   "execution_count": 7,
   "metadata": {},
   "outputs": [
    {
     "name": "stdout",
     "output_type": "stream",
     "text": [
      "torch.Size([282166, 3]) torch.Size([282166])\n",
      "torch.Size([225789, 3]) torch.Size([225789])\n"
     ]
    }
   ],
   "source": [
    "tumX, tumY = xyOlustur(isimler)\n",
    "\n",
    "random.seed(5)\n",
    "trnX, trnY = xyOlustur(random.sample(isimler, k = int(0.8 * n_isim)))"
   ]
  },
  {
   "cell_type": "markdown",
   "metadata": {},
   "source": [
    "### Parametreler"
   ]
  },
  {
   "cell_type": "markdown",
   "metadata": {},
   "source": [
    "[Bu makalede](https://arxiv.org/abs/1502.01852) arkadaşlar konuyu o kadar detaylı işlemiş ki adını fonksiyonlara vermişler: `torch` kütüphanesi makaleyi uygulamak üzere `kaiming_uniform_` isimli bir fonksiyon barındırıyor. Buna uygun olarak genel modelimizi örnekten farklı şekilde başlatacağız:\n",
    "\n",
    "- `W1` tamamen makalede anlatıldığı gibi başlatılıyor,\n",
    "- `B1` ve `W2` büyük sayıların oluşmaması için törpüleniyor,\n",
    "- `B2` başlangıçta çıktı için önyargı istemediğimizden sıfırlanıyor."
   ]
  },
  {
   "cell_type": "code",
   "execution_count": 36,
   "metadata": {},
   "outputs": [
    {
     "data": {
      "text/plain": [
       "3790"
      ]
     },
     "execution_count": 36,
     "metadata": {},
     "output_type": "execute_result"
    }
   ],
   "source": [
    "torch.manual_seed(5)\n",
    "\n",
    "C = torch.randn((n_alfabe, n_embed))\n",
    "\n",
    "W1 = torch.randn((n_girdi, n_katman)) * (5/3) / (n_girdi ** 0.5) \n",
    "B1 = torch.randn(n_katman) * 0.02\n",
    "\n",
    "W2 = torch.randn((n_katman, n_alfabe)) * 0.01\n",
    "B2 = torch.zeros(n_alfabe)\n",
    "\n",
    "tumParametreler = [C, W1, B1, W2, B2]\n",
    "n_parametre = sum(p.nelement() for p in tumParametreler)\n",
    "\n",
    "for p in tumParametreler:\n",
    "  p.requires_grad = True\n",
    "\n",
    "n_parametre"
   ]
  },
  {
   "cell_type": "markdown",
   "metadata": {},
   "source": [
    "Aynı problemi çözmek üzere geliştirilen \"[Batch Normalization](https://arxiv.org/abs/1502.03167)\" gibi yöntemler bu çalışmanın seviyesinin ötesinde; bir sonraki safhada bunu kullanacağız fakat detaylarına girmeyeceğiz."
   ]
  },
  {
   "cell_type": "markdown",
   "metadata": {},
   "source": [
    "### Temel Eğitim Yordamları"
   ]
  },
  {
   "cell_type": "markdown",
   "metadata": {},
   "source": [
    "`fwd` ve `bwd` isimli 2 fonksiyon oluşturup birinde gelen veri ile loss hesaplayalım, diğerinde gelen loss ve lr ile modeli güncelleyelim. `ffwd` ise sadece loss hesaplamak için var; `@torch.no_grad()` ile bu fonksiyonda yapılan işlemler için kütüphaneye `grad` hesaplamamasını söylüyoruz."
   ]
  },
  {
   "cell_type": "code",
   "execution_count": 37,
   "metadata": {},
   "outputs": [
    {
     "name": "stdout",
     "output_type": "stream",
     "text": [
      "Başlangıç için yapılan düzenleme işe yaradı:\n",
      "beklenen: 3.4011974334716797\n",
      "oluşan  : 3.392152786254883\n"
     ]
    }
   ],
   "source": [
    "def fwd(X, Y):\n",
    "  girdi = C[X].view(-1, n_girdi)\n",
    "  cikti = torch.tanh(girdi @ W1 + B1) @ W2 + B2\n",
    "  return F.cross_entropy(cikti, Y)\n",
    "\n",
    "def bwd(loss, lr):\n",
    "  loss.backward()\n",
    "  for p in tumParametreler:\n",
    "    p.data += -lr * p.grad\n",
    "    p.grad = None\n",
    "  return loss\n",
    "\n",
    "@torch.no_grad()\n",
    "def ffwd(X, Y):\n",
    "  return fwd(X, Y)\n",
    "\n",
    "print('Başlangıç için yapılan düzenleme işe yaradı:')\n",
    "print('beklenen:', -torch.tensor(1.0/n_alfabe).log().item())\n",
    "print('oluşan  :', ffwd(tumX, tumY).item())\n"
   ]
  },
  {
   "cell_type": "markdown",
   "metadata": {},
   "source": [
    "Eğitirken öğrenelim:\n",
    "\n",
    "- veriyi kümelere ayırmıştık, eğitim kümesinde bulduğumuz loss değeri ile `bwd` yapalım ama nihai ölçümümüzü tüm veri üzerinde hesapladığımız loss ile yapalım\n",
    "- veriyi bölmüş olsak da her seferinde tüm eğitim kümesi üzerinden geçmeyelim. Bu kümeden `n_batch` kadar örnek alıp bunları dikkate alalım. Hızımız artarken konvansiyondan bir uygulama daha görmüş oluruz.\n",
    "- lr konusuna eğilelim: mesela _a_ ile _b_ arasındaki değerler için loss değerini ne kadar azaltabiliyoruz bunu görselleştirmeye çalışalım. Buradan bir şey öğrenebilirsek bunu kullanırız. "
   ]
  },
  {
   "cell_type": "code",
   "execution_count": 38,
   "metadata": {},
   "outputs": [
    {
     "data": {
      "text/plain": [
       "3.597090482711792"
      ]
     },
     "execution_count": 38,
     "metadata": {},
     "output_type": "execute_result"
    },
    {
     "data": {
      "image/png": "[encoded data removed]",
      "text/plain": [
       "<Figure size 640x480 with 1 Axes>"
      ]
     },
     "metadata": {},
     "output_type": "display_data"
    }
   ],
   "source": [
    "n_test, pltLoss = 9, []\n",
    "\n",
    "for i in range(n_test):\n",
    "  torch.manual_seed(i)\n",
    "  batch = torch.randint(0, trnX.shape[0], (n_batch,))\n",
    "  bwd(fwd(trnX[batch], trnY[batch]), i/n_test)\n",
    "  pltLoss.append(ffwd(tumX, tumY).item())\n",
    "\n",
    "\n",
    "plt.plot(range(n_test), pltLoss)\n",
    "ffwd(tumX, tumY).item()"
   ]
  },
  {
   "cell_type": "code",
   "execution_count": 39,
   "metadata": {},
   "outputs": [
    {
     "name": "stdout",
     "output_type": "stream",
     "text": [
      "3.4957 (0.40)\n",
      "2.4673 (0.40)\n",
      "2.4663 (0.40)\n",
      "2.3542 (0.30)\n",
      "2.3027 (0.30)\n",
      "2.2762 (0.20)\n",
      "2.2372 (0.20)\n",
      "2.2445 (0.20)\n",
      "2.2494 (0.20)\n",
      "2.2288 (0.20)\n",
      "2.2368 (0.10)\n",
      "2.1704 (0.10)\n",
      "2.1654 (0.10)\n",
      "2.1637 (0.10)\n",
      "2.1701 (0.10)\n",
      "2.1660 (0.10)\n",
      "2.1626 (0.10)\n",
      "2.1728 (0.10)\n",
      "2.1712 (0.10)\n",
      "2.1659 (0.10)\n",
      "2.1648 (0.01)\n",
      "2.1252 (0.01)\n",
      "2.1227 (0.01)\n",
      "2.1233 (0.01)\n",
      "2.1216 (0.01)\n"
     ]
    }
   ],
   "source": [
    "torch.manual_seed(5)\n",
    "\n",
    "for i in range(50000):\n",
    "  batch = torch.randint(0, trnX.shape[0], (n_batch,))\n",
    "  lr = 0.4 if i < 6000 else 0.3 if i < 10000 else 0.2 if i < 20000 else 0.1 if i < 40000 else 0.01\n",
    "  bwd(fwd(trnX[batch], trnY[batch]), lr)\n",
    "  if i % 2000 == 0:\n",
    "    print(f'{ffwd(tumX, tumY).item():.4f} ({lr:.2f})')"
   ]
  },
  {
   "cell_type": "markdown",
   "metadata": {},
   "source": [
    "### Neden 2 boyutlu bir `embed` seçmiştik?"
   ]
  },
  {
   "cell_type": "markdown",
   "metadata": {},
   "source": [
    "Aslında tamamen pratik nedenlerle: bu (sahte) \"katman\" eğitim esnasında modele harflerin mesafelerini öğrenme fırsatı veriyor. Bunu 2 boyutlu olarak görselleştirdiğimiz zaman biz de modelin ne öğrendiğini görebiliriz:"
   ]
  },
  {
   "cell_type": "code",
   "execution_count": 40,
   "metadata": {},
   "outputs": [
    {
     "data": {
      "image/png": "[encoded data removed]",
      "text/plain": [
       "<Figure size 800x800 with 1 Axes>"
      ]
     },
     "metadata": {},
     "output_type": "display_data"
    }
   ],
   "source": [
    "plt.figure(figsize=(8,8))\n",
    "plt.scatter(C[1:,0].data, C[1:,1].data, s=200)\n",
    "for i in range(C.shape[0]):\n",
    "    if i == 0: continue\n",
    "    plt.text(C[i,0].item(), C[i,1].item(), idx2harf[i], ha=\"center\", va=\"center\", color='white')\n",
    "plt.grid('minor')"
   ]
  },
  {
   "cell_type": "markdown",
   "metadata": {},
   "source": [
    "## Sonuç"
   ]
  },
  {
   "cell_type": "code",
   "execution_count": 41,
   "metadata": {},
   "outputs": [
    {
     "name": "stdout",
     "output_type": "stream",
     "text": [
      ".karar.\n",
      ".çomacar.\n",
      ".karezesen.\n",
      ".doğanberite.\n",
      ".yemithesek.\n",
      ".tepelar.\n",
      ".deme.\n",
      ".gücek.\n",
      ".vekiçdinbey.\n",
      ".cecrekunekli.\n",
      ".ıcıçıcanoğlu.\n",
      ".alcık.\n",
      ".tinağakpınarbullafı.\n",
      ".mahfanı.\n",
      ".kusdemiroğlar.\n",
      ".tutat.\n",
      ".köresin.\n",
      ".buk.\n",
      ".yan.\n",
      ".beyler.\n",
      ".asbelenret.\n",
      ".hay.\n",
      ".murdeyişi.\n",
      ".eshefettepese.\n",
      ".gümlütçumakçit.\n"
     ]
    }
   ],
   "source": [
    "torch.manual_seed(5)\n",
    "\n",
    "for _ in range(25):\n",
    "    ornek, baglam = [0], [0] * n_blok\n",
    "    while True:\n",
    "      girdi = C[torch.tensor([baglam])].view(1, -1)\n",
    "      logits = torch.tanh(girdi @ W1 + B1) @ W2 + B2\n",
    "      P = F.softmax(logits, dim=1)\n",
    "      idx = torch.multinomial(P, num_samples = 1).item()\n",
    "      baglam = baglam[1:] + [idx]\n",
    "      ornek.append(idx)\n",
    "      if idx == 0:\n",
    "        break\n",
    "    print(''.join(idx2harf[i] for i in ornek))"
   ]
  }
 ],
 "metadata": {
  "kernelspec": {
   "display_name": "Python 3",
   "language": "python",
   "name": "python3"
  },
  "language_info": {
   "codemirror_mode": {
    "name": "ipython",
    "version": 3
   },
   "file_extension": ".py",
   "mimetype": "text/x-python",
   "name": "python",
   "nbconvert_exporter": "python",
   "pygments_lexer": "ipython3",
   "version": "3.10.12"
  }
 },
 "nbformat": 4,
 "nbformat_minor": 2
}
