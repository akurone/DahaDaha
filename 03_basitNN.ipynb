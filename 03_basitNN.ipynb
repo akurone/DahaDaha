{
 "cells": [
  {
   "cell_type": "markdown",
   "metadata": {},
   "source": [
    "# Basit bir Yapay Sinir Ağı (NN)"
   ]
  },
  {
   "cell_type": "markdown",
   "metadata": {},
   "source": [
    "## Hazırlık"
   ]
  },
  {
   "cell_type": "code",
   "execution_count": 1,
   "metadata": {},
   "outputs": [
    {
     "data": {
      "text/plain": [
       "29996"
      ]
     },
     "execution_count": 1,
     "metadata": {},
     "output_type": "execute_result"
    }
   ],
   "source": [
    "# gerekli kütüphaneler\n",
    "import torch\n",
    "import torch.nn.functional as F\n",
    "import matplotlib.pyplot as plt\n",
    "\n",
    "# bunlar bize hep lazım\n",
    "alfabe = list('.abcçdefgğhıijklmnoöprsştuüvyz')\n",
    "harf2idx = { harf:idx for idx, harf in enumerate(alfabe) }\n",
    "idx2harf = { idx:harf for harf, idx in harf2idx.items() }\n",
    "\n",
    "# bize lazım olan işlem: bir string alıp başına ve sonuna nokta ekle\n",
    "def isle(x):\n",
    "  return ['.'] + list(x) + ['.']\n",
    "# bunu da çok kullanacağız\n",
    "def bigramGetir(x):\n",
    "  return zip(x, x[1:])\n",
    "\n",
    "# isimleri okurken işleyelim\n",
    "isimler =  list(map(lambda isim: isle(isim), open(\"./isimler.txt\", \"r\").read().splitlines()))\n",
    "len(isimler)"
   ]
  },
  {
   "cell_type": "markdown",
   "metadata": {},
   "source": [
    "## Örnekle Başlayalım"
   ]
  },
  {
   "cell_type": "markdown",
   "metadata": {},
   "source": [
    "Olabilecek en basit NN yapısını elde etmeye çalışacağız ki bu bize bigram model ile neredeyse aynı çıktıları üretecek: önyargı ve aktivasyon bileşenleri olmayacak, tek girdi (bu harf) alacak ve peşinde olduğumuz çıktıyı -sıradaki harf- üretecek.\n",
    "\n",
    "Artık bigram oluşturmayacağız fakat modeli \"x görürsen y üret\" şeklinde eğiteceğimiz için harf çiftlerini bu sefer x (girdi) ve y (beklenen çıktı yani _label_) olarak gruplayacağız.\n",
    "\n",
    "_abacılar_ örneğimizi bu açıdan inceleyelim:"
   ]
  },
  {
   "cell_type": "code",
   "execution_count": 2,
   "metadata": {},
   "outputs": [
    {
     "name": "stdout",
     "output_type": "stream",
     "text": [
      "X = . (00) -> Y = a (01)\n",
      "X = a (01) -> Y = b (02)\n",
      "X = b (02) -> Y = a (01)\n",
      "X = a (01) -> Y = c (03)\n",
      "X = c (03) -> Y = ı (11)\n",
      "X = ı (11) -> Y = l (15)\n",
      "X = l (15) -> Y = a (01)\n",
      "X = a (01) -> Y = r (21)\n",
      "X = r (21) -> Y = . (00)\n",
      "[0, 1, 2, 1, 3, 11, 15, 1, 21]\n",
      "[1, 2, 1, 3, 11, 15, 1, 21, 0]\n"
     ]
    }
   ],
   "source": [
    "ornekX, ornekY = [], []\n",
    "\n",
    "for h1, h2 in bigramGetir(isle('abacılar')):\n",
    "  ornekX.append(harf2idx[h1]) ; ornekY.append(harf2idx[h2])\n",
    "  print(f'X = {h1} ({harf2idx[h1]:02}) -> Y = {h2} ({harf2idx[h2]:02})')\n",
    "\n",
    "print(ornekX) ; print(ornekY)\n",
    "\n",
    "ornekAdet = len(ornekX)\n",
    "ornekAdetTens, ornekYTens = torch.arange(ornekAdet), torch.tensor(ornekY)\n",
    "\n",
    "# aşağıdaki kod örneğe dair durumu yazdırmak için:\n",
    "def prnOrnek(P):\n",
    "  loss = torch.zeros(ornekAdet)\n",
    "  for i in range(ornekAdet):\n",
    "    xi, yi = ornekX[i], ornekY[i]\n",
    "    p = P[i, yi] ; nll = -torch.log(p)\n",
    "    print(f'({idx2harf[xi]}:{xi:02}) -> ({idx2harf[yi]}:{yi:02}) p: {p.item():.4f} NLL: {nll.item():.4f}')\n",
    "    loss[i] = nll\n",
    "  \n",
    "  print('=========')\n",
    "  print(f'NLL: {loss.mean().item():.4f}')\n"
   ]
  },
  {
   "cell_type": "markdown",
   "metadata": {},
   "source": [
    "Tek girdimiz var ama tek ağırlığa sahip olmak zorunda değiliz: Elimizde harfi ifade eden 1-30 arası bir sayı var. Bu sayıyı 30 bitlik bir diziye çevirip nöronu buna göre oluşturduğumuzda tek ağırlık üzerinde cambazlık yapmak yerine 30 farklı ağırlıkla daha hassas bir yapı elde edebiliriz. Yani tek girdiyi 30 parçaya böldük. Nöronumuz w1x1+...+w30x30 şekline büründü (ya da 30 tane tek girdisi olan nörünumuz var diyebilir miyiz?). Bunu uygulamak için camia'nın sevdiği `one_hot` fonksiyonunu kullanacağız:"
   ]
  },
  {
   "cell_type": "code",
   "execution_count": 3,
   "metadata": {},
   "outputs": [
    {
     "data": {
      "text/plain": [
       "torch.Size([9, 30])"
      ]
     },
     "execution_count": 3,
     "metadata": {},
     "output_type": "execute_result"
    },
    {
     "data": {
      "image/png": "[encoded data removed]",
      "text/plain": [
       "<Figure size 640x480 with 1 Axes>"
      ]
     },
     "metadata": {},
     "output_type": "display_data"
    }
   ],
   "source": [
    "ornekXEncoded = F.one_hot(torch.tensor(ornekX), num_classes = 30).float()\n",
    "plt.imshow(ornekXEncoded)\n",
    "ornekXEncoded.shape"
   ]
  },
  {
   "cell_type": "markdown",
   "metadata": {},
   "source": [
    "Aşağıda rastgele doldurduğumuz ağırlıklar (ve bir önyargı olmayacağı için esasen nöronlar) mevcut:"
   ]
  },
  {
   "cell_type": "code",
   "execution_count": 31,
   "metadata": {},
   "outputs": [],
   "source": [
    "torch.manual_seed(5)\n",
    "ornekW = torch.randn((30, 30), requires_grad = True) # requires_grad = True ifadesine dikkat!"
   ]
  },
  {
   "cell_type": "markdown",
   "metadata": {},
   "source": [
    "Matris çarpımı (@) ile tüm girdileri bir seferde paralel olarak nöronlara veriyoruz. Takip eden iki işlem ise (birlikte) `softmax`. Burada yaptığımız aslında bigram modelimizdeki M ve P'nin muadillerini oluşturmak. Tabii bu bizim saydığımız adetler yerine rastgele rakamlardan oluşuyor. Bu haliyle bir de `loss` hesaplayıp detayları yazdıralım:"
   ]
  },
  {
   "cell_type": "code",
   "execution_count": 32,
   "metadata": {},
   "outputs": [
    {
     "name": "stdout",
     "output_type": "stream",
     "text": [
      "(.:00) -> (a:01) p: 0.0283 NLL: 3.5640\n",
      "(a:01) -> (b:02) p: 0.0138 NLL: 4.2799\n",
      "(b:02) -> (a:01) p: 0.0410 NLL: 3.1946\n",
      "(a:01) -> (c:03) p: 0.0086 NLL: 4.7506\n",
      "(c:03) -> (ı:11) p: 0.0159 NLL: 4.1416\n",
      "(ı:11) -> (l:15) p: 0.0090 NLL: 4.7111\n",
      "(l:15) -> (a:01) p: 0.0296 NLL: 3.5190\n",
      "(a:01) -> (r:21) p: 0.0535 NLL: 2.9284\n",
      "(r:21) -> (.:00) p: 0.0437 NLL: 3.1296\n",
      "=========\n",
      "NLL: 3.8021\n"
     ]
    }
   ],
   "source": [
    "logits = ornekXEncoded @ ornekW # \"logit\": bu işlemin sonucundaki tek öğenin literatürdeki ismi, ve buradaki çoğul hali\n",
    "# softmax: daha sonra bunun yerine bunu kullanacağız: https://pytorch.org/docs/stable/generated/torch.nn.functional.softmax.html\n",
    "sankiM = torch.exp(logits)\n",
    "sankiP = sankiM / sankiM.sum(dim = 1, keepdim = True)\n",
    "\n",
    "prnOrnek(sankiP)"
   ]
  },
  {
   "cell_type": "markdown",
   "metadata": {},
   "source": [
    "Örnek ismimiz üzerinden modelimizi eğitelim:\n",
    "\n",
    "- önce yukarıda açıkça yazdığımız işlemi 1 satırda yapıyoruz. `ornekW` değişkenini oluştururken `requires_grad = True` dediğimiz için bundan türeyen tüm değişkenlerimizde de `grad` hesaplanabilir olacak.\n",
    "- yine tek satırda loss hesaplıyoruz: her bir satırdaki `ornekY` pozisyonundaki değerleri alıp -log sonrasında ortalamaya tabi tutuyoruz.\n",
    "- _forward pass_ yaptık!\n",
    "- _backward pass_ işlemini de `torch` kütüphanesinin yardımıyla tek satırda yapacağız: `loss.backward()` (`loss` `ornekW` değişkeninden türüyor, dikkat!)\n",
    "- fakat önce `grad` değerlerini temizliyoruz (kütüphane `grad` için hesapladığı değeri mevcut değere eklediği için bunu yapıyoruz).\n",
    "- artık tek yapmamız gereken ağırlıkları güncelleyip modeli daha iyi bir hale getirmek: burada hesaplanan `grad` değerlerini belli bir katsayı (`learning rate`) ile ağırlıklara ekliyoruz/çıkarıyoruz. Bu katsayı büyüdükçe model daha hızlı istenen noktaya gelebilir ama bu noktayı geçip hızla istenen noktadan öteye de gidebilir. Bir sonraki safhada bunu nasıl optimize edebiliriz bakacağız.\n",
    "\n",
    " Nasıl hızla `overfit` olduğuna dikkat edin. Ne kadar uğraşsak bile `loss = 0` olmayacak, peki neden?"
   ]
  },
  {
   "cell_type": "code",
   "execution_count": 85,
   "metadata": {},
   "outputs": [
    {
     "name": "stdout",
     "output_type": "stream",
     "text": [
      "(.:00) -> (a:01) p: 0.9918 NLL: 0.0082\n",
      "(a:01) -> (b:02) p: 0.5110 NLL: 0.6714\n",
      "(b:02) -> (a:01) p: 0.9917 NLL: 0.0083\n",
      "(a:01) -> (c:03) p: 0.3015 NLL: 1.1989\n",
      "(c:03) -> (ı:11) p: 0.9916 NLL: 0.0084\n",
      "(ı:11) -> (l:15) p: 0.9916 NLL: 0.0085\n",
      "(l:15) -> (a:01) p: 0.9916 NLL: 0.0084\n",
      "(a:01) -> (r:21) p: 0.1801 NLL: 1.7142\n",
      "(r:21) -> (.:00) p: 0.9917 NLL: 0.0084\n",
      "=========\n",
      "NLL: 0.4039\n"
     ]
    }
   ],
   "source": [
    "# \"forward pass\"\n",
    "sankiP = torch.softmax(ornekXEncoded @ ornekW, dim = 1)\n",
    "loss = -sankiP[ornekAdetTens, ornekYTens].log().mean()\n",
    "\n",
    "# \"backward pass\"\n",
    "ornekW.grad = None # bunu yapmazsak grad değerleri birikir!!\n",
    "loss.backward()\n",
    "\n",
    "# update\n",
    "ornekW.data += -20 * ornekW.grad # LR değerini afaki büyük, ama şimdilik bizim için önemli değil.\n",
    "\n",
    "prnOrnek(sankiP)\n"
   ]
  },
  {
   "cell_type": "markdown",
   "metadata": {},
   "source": [
    "## Tüm Veri Seti ile Eğitim Yapalım"
   ]
  },
  {
   "cell_type": "markdown",
   "metadata": {},
   "source": [
    "### Hazırlayalım"
   ]
  },
  {
   "cell_type": "markdown",
   "metadata": {},
   "source": [
    "Temelde yukarıdaki örnek için yaptıklarımızı tüm veri üzerinde yapıyoruz. Biraz `python` öğrenmek adına farklı denemeler yaptım burada:\n",
    "\n",
    "- X ve Y değerlerini ayırmak için gereken döngüleri _fonksiyonel_ ifadeler arkasına gizledim; bu önceki yöntemden daha mı iyi çalışır?\n",
    "- `tuple` bir nimet :)"
   ]
  },
  {
   "cell_type": "code",
   "execution_count": 98,
   "metadata": {},
   "outputs": [
    {
     "data": {
      "text/plain": [
       "282166"
      ]
     },
     "execution_count": 98,
     "metadata": {},
     "output_type": "execute_result"
    }
   ],
   "source": [
    "torch.manual_seed(5)\n",
    "\n",
    "# her isim için bigramları alıp harften sıraya dön; x ve y olarak ayır:\n",
    "tumu = zip(*[(harf2idx[h1], harf2idx[h2]) for isim in isimler for h1, h2 in bigramGetir(isim)])\n",
    "tumX, tumY = torch.tensor(list(next(tumu))), torch.tensor(list(next(tumu)))\n",
    "\n",
    "tumAdet = tumX.nelement()\n",
    "tumX = F.one_hot(tumX, num_classes = 30).float()\n",
    "tumAdetTens = torch.arange(tumAdet)\n",
    "\n",
    "W = torch.randn((30, 30), requires_grad = True)\n",
    "tumAdet"
   ]
  },
  {
   "cell_type": "markdown",
   "metadata": {},
   "source": [
    "### Eğitelim"
   ]
  },
  {
   "cell_type": "markdown",
   "metadata": {},
   "source": [
    "Tek örnek için yaptığımız işlemden farklı olarak sadece `loss` değerimizi zenginleştirdik: model kusuru azaltmaya odaklanırken ağırlık değerlerini gelen örneklere göre çok fazla optimize etsin istemiyoruz; dolayısı ile ağırlıkların 0'dan uzaklaşmasını (yani duruma göre çok özel değerlere konsantre olmalarını) istemediğimizi ifadenin içine ekledik."
   ]
  },
  {
   "cell_type": "code",
   "execution_count": 99,
   "metadata": {},
   "outputs": [
    {
     "name": "stdout",
     "output_type": "stream",
     "text": [
      "3.8994319438934326\n",
      "3.4028913974761963\n",
      "3.144059419631958\n",
      "2.992974042892456\n",
      "2.8981075286865234\n",
      "2.834346294403076\n",
      "2.7896625995635986\n",
      "2.756298780441284\n",
      "2.730377197265625\n",
      "2.709571599960327\n",
      "2.692500114440918\n",
      "2.6782171726226807\n",
      "2.666097640991211\n",
      "2.655687093734741\n",
      "2.6466643810272217\n",
      "2.6387829780578613\n",
      "2.6318585872650146\n",
      "2.6257452964782715\n",
      "2.6203267574310303\n",
      "2.615508794784546\n",
      "2.611213445663452\n",
      "2.6073741912841797\n",
      "2.6039347648620605\n",
      "2.600843667984009\n",
      "2.5980582237243652\n"
     ]
    }
   ],
   "source": [
    "# \"gradient descent\"\n",
    "for k in range(25):\n",
    "  # forward pass\n",
    "  P = torch.softmax(tumX @ W, dim = 1)\n",
    "  nll = -P[tumAdetTens, tumY].log().mean()\n",
    "  reg = 0.01 * (W**2).mean() # W değerleri büyürse artık loss da büyüyecek\n",
    "  loss = nll + reg\n",
    "  print(loss.item())\n",
    "\n",
    "  # backward pass\n",
    "  W.grad = None\n",
    "  loss.backward()\n",
    "\n",
    "  # update\n",
    "  W.data += -90 * W.grad"
   ]
  },
  {
   "cell_type": "markdown",
   "metadata": {},
   "source": [
    "### Sonuç"
   ]
  },
  {
   "cell_type": "code",
   "execution_count": 100,
   "metadata": {},
   "outputs": [
    {
     "name": "stdout",
     "output_type": "stream",
     "text": [
      ".kadur.\n",
      ".ç.\n",
      ".mavardu.\n",
      ".ü.\n",
      ".tenali.\n",
      ".megükeritenaem.\n",
      ".ghasıkılı.\n",
      ".klar.\n",
      ".derı.\n",
      ".gücıkçveköçdinzlı.\n",
      ".cınakari.\n",
      ".kla.\n",
      ".ıcıçıcateyn.\n",
      ".atucpa.\n",
      ".ti.\n",
      ".koükpene.\n",
      ".yullefpımalfğındirgöemanopradoğı.\n",
      ".at.\n",
      ".k.\n",
      ".kasin.\n",
      ".bukçvan.\n",
      ".beyırı.\n",
      ".ambelenr.\n",
      ".t.\n",
      ".hay.\n"
     ]
    }
   ],
   "source": [
    "torch.manual_seed(5)\n",
    "for i in range(25):\n",
    "  ornek = ['.'] ; idx = 0\n",
    "  while True:\n",
    "    p = torch.softmax(F.one_hot(torch.tensor([idx]), num_classes = 30).float() @ W, dim = 1)\n",
    "    idx = torch.multinomial(p, num_samples = 1, replacement = True).item()\n",
    "    ornek.append(idx2harf[idx])\n",
    "    if idx == 0:\n",
    "      break\n",
    "  print(''.join(ornek))"
   ]
  }
 ],
 "metadata": {
  "kernelspec": {
   "display_name": "Python 3",
   "language": "python",
   "name": "python3"
  },
  "language_info": {
   "codemirror_mode": {
    "name": "ipython",
    "version": 3
   },
   "file_extension": ".py",
   "mimetype": "text/x-python",
   "name": "python",
   "nbconvert_exporter": "python",
   "pygments_lexer": "ipython3",
   "version": "3.10.12"
  }
 },
 "nbformat": 4,
 "nbformat_minor": 2
}
