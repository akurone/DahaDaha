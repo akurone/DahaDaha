{
 "cells": [
  {
   "cell_type": "markdown",
   "metadata": {},
   "source": [
    "# İnceleme"
   ]
  },
  {
   "cell_type": "code",
   "execution_count": 1,
   "metadata": {},
   "outputs": [
    {
     "name": "stdout",
     "output_type": "stream",
     "text": [
      "toplam adet: 30000\n",
      "en kısa: 4 harf\n",
      "en uzun: 30 harf\n",
      "ilk 10:\n"
     ]
    },
    {
     "data": {
      "text/plain": [
       "['abaca',\n",
       " 'abacı',\n",
       " 'abacık',\n",
       " 'abacılar',\n",
       " 'abacıoğlu',\n",
       " 'abadan',\n",
       " 'abadiye',\n",
       " 'abağa',\n",
       " 'abain',\n",
       " 'abak']"
      ]
     },
     "execution_count": 1,
     "metadata": {},
     "output_type": "execute_result"
    }
   ],
   "source": [
    "isimler = open(\"./veriHazirlik/hamTemiz.txt\", \"r\").read().splitlines()\n",
    "\n",
    "print(f'toplam adet: {len(isimler)}')\n",
    "print(f'en kısa: {min([len(isim) for isim in isimler])} harf')\n",
    "print(f'en uzun: {max([len(isim) for isim in isimler])} harf')\n",
    "print('ilk 10:')\n",
    "isimler[:10]"
   ]
  },
  {
   "cell_type": "markdown",
   "metadata": {},
   "source": [
    "### Harfler (nam-ı diğer _unigramlar_)"
   ]
  },
  {
   "cell_type": "code",
   "execution_count": 4,
   "metadata": {},
   "outputs": [
    {
     "data": {
      "text/plain": [
       "[('a', 37283),\n",
       " ('e', 19495),\n",
       " ('l', 18411),\n",
       " ('k', 18269),\n",
       " ('r', 17051),\n",
       " ('ı', 13449),\n",
       " ('i', 12015),\n",
       " ('n', 10776),\n",
       " ('u', 10194),\n",
       " ('y', 9516),\n",
       " ('t', 7291),\n",
       " ('m', 7067),\n",
       " ('s', 6237),\n",
       " ('b', 6204),\n",
       " ('ü', 6016),\n",
       " ('d', 5990),\n",
       " ('o', 5832),\n",
       " ('ç', 5226),\n",
       " ('ğ', 5058),\n",
       " ('ş', 4860),\n",
       " ('c', 4641),\n",
       " ('z', 4235),\n",
       " ('h', 3973),\n",
       " ('ö', 3639),\n",
       " ('g', 3224),\n",
       " ('p', 2950),\n",
       " ('v', 2184),\n",
       " ('f', 1099),\n",
       " ('j', 12),\n",
       " (':', 2),\n",
       " ('ê', 1),\n",
       " ('q', 1)]"
      ]
     },
     "execution_count": 4,
     "metadata": {},
     "output_type": "execute_result"
    }
   ],
   "source": [
    "harfler = {}\n",
    "for isim in isimler:\n",
    "    for harf in isim:\n",
    "        harfler[harf] = harfler.get(harf, 0) + 1\n",
    "\n",
    "sorted(harfler.items(), key = lambda kv: -kv[1])"
   ]
  },
  {
   "cell_type": "markdown",
   "metadata": {},
   "source": [
    "### Temiz?!\n",
    "\n",
    "Görünen o ki temizlediğimiz veri pek de temiz değilmiş:\n",
    "\n",
    "![Garip bir ayraç](.assets/i5.png)\n",
    "\n",
    "Ayrıca Türkçe olmayan bir harf var:\n",
    "\n",
    "![Sarpq](.assets/i6.png)\n",
    "\n",
    "Bir de masum olsa da işimizi zorlaştıracak _ê_ harfi geçen `halenzê` ismi var.\n",
    "\n",
    "Harflerle ilgili bir sorun olmasa da _ğültepe_ Türkçe için mümkün değil.\n",
    "\n",
    "Bunları da temizleyip alfabemize uygun halde veri setini [nihai haline](../isimler.txt) getirdikten sonra bir daha bakalım."
   ]
  },
  {
   "cell_type": "code",
   "execution_count": 12,
   "metadata": {},
   "outputs": [
    {
     "data": {
      "image/png": "[encoded data removed]",
      "text/plain": [
       "<Figure size 640x480 with 1 Axes>"
      ]
     },
     "metadata": {},
     "output_type": "display_data"
    },
    {
     "data": {
      "text/plain": [
       "{'a': 37281,\n",
       " 'e': 19492,\n",
       " 'l': 18408,\n",
       " 'k': 18269,\n",
       " 'r': 17050,\n",
       " 'ı': 13449,\n",
       " 'i': 12012,\n",
       " 'n': 10775,\n",
       " 'u': 10194,\n",
       " 'y': 9516,\n",
       " 't': 7289,\n",
       " 'm': 7067,\n",
       " 's': 6236,\n",
       " 'b': 6204,\n",
       " 'ü': 6014,\n",
       " 'd': 5989,\n",
       " 'o': 5832,\n",
       " 'ç': 5225,\n",
       " 'ğ': 5056,\n",
       " 'ş': 4860,\n",
       " 'c': 4641,\n",
       " 'z': 4234,\n",
       " 'h': 3972,\n",
       " 'ö': 3639,\n",
       " 'g': 3224,\n",
       " 'p': 2948,\n",
       " 'v': 2184,\n",
       " 'f': 1098,\n",
       " 'j': 12}"
      ]
     },
     "execution_count": 12,
     "metadata": {},
     "output_type": "execute_result"
    }
   ],
   "source": [
    "import matplotlib.pyplot as plt\n",
    "\n",
    "isimler = open(\"./isimler.txt\", \"r\").read().splitlines()\n",
    "harfler = {}\n",
    "for isim in isimler:\n",
    "    for harf in isim:\n",
    "        harfler[harf] = harfler.get(harf, 0) + 1\n",
    "\n",
    "\n",
    "harfler = dict(sorted(harfler.items(), key = lambda kv: -kv[1]))\n",
    "plt.bar(harfler.keys(), harfler.values())\n",
    "plt.show()\n",
    "harfler"
   ]
  }
 ],
 "metadata": {
  "kernelspec": {
   "display_name": "Python 3",
   "language": "python",
   "name": "python3"
  },
  "language_info": {
   "codemirror_mode": {
    "name": "ipython",
    "version": 3
   },
   "file_extension": ".py",
   "mimetype": "text/x-python",
   "name": "python",
   "nbconvert_exporter": "python",
   "pygments_lexer": "ipython3",
   "version": "3.10.12"
  }
 },
 "nbformat": 4,
 "nbformat_minor": 2
}
